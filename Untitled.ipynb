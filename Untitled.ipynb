{
 "cells": [
  {
   "cell_type": "code",
   "execution_count": 2,
   "id": "45032c1f-94e0-4ad6-a37d-a42ff0657d2b",
   "metadata": {},
   "outputs": [
    {
     "name": "stdout",
     "output_type": "stream",
     "text": [
      "Hello World\n"
     ]
    }
   ],
   "source": [
    "print(\"Hello World\")"
   ]
  },
  {
   "cell_type": "markdown",
   "id": "beebc32e-5117-4d18-a570-bf7d6ad9b47a",
   "metadata": {},
   "source": [
    "GenAI Class"
   ]
  },
  {
   "cell_type": "code",
   "execution_count": 3,
   "id": "af8f5db3-5db4-47eb-aab3-4645b8a6ed5b",
   "metadata": {},
   "outputs": [
    {
     "name": "stdout",
     "output_type": "stream",
     "text": [
      "0\n",
      "1\n",
      "2\n",
      "3\n",
      "4\n",
      "5\n",
      "6\n",
      "7\n",
      "8\n",
      "9\n"
     ]
    }
   ],
   "source": [
    "for i in range(10):\n",
    "    print(i)"
   ]
  },
  {
   "cell_type": "code",
   "execution_count": 4,
   "id": "efeb06ff-6199-48fb-9ea8-c34a0d3b2f7d",
   "metadata": {},
   "outputs": [
    {
     "name": "stdout",
     "output_type": "stream",
     "text": [
      "row=0\n",
      "row=1\n",
      "row=2\n",
      "row=3\n",
      "row=4\n"
     ]
    }
   ],
   "source": [
    "for row in range(5):\n",
    "    print(f\"{row=}\")"
   ]
  },
  {
   "cell_type": "code",
   "execution_count": 6,
   "id": "8449fe59-8fe1-452e-bd5c-ef712afd7f9b",
   "metadata": {},
   "outputs": [
    {
     "name": "stdout",
     "output_type": "stream",
     "text": [
      "row=0\n",
      "\tcol=0\n",
      "\tcol=1\n",
      "\tcol=2\n",
      "\tcol=3\n",
      "\tcol=4\n",
      "row=1\n",
      "\tcol=0\n",
      "\tcol=1\n",
      "\tcol=2\n",
      "\tcol=3\n",
      "row=2\n",
      "\tcol=0\n",
      "\tcol=1\n",
      "\tcol=2\n",
      "row=3\n",
      "\tcol=0\n",
      "\tcol=1\n",
      "row=4\n",
      "\tcol=0\n"
     ]
    }
   ],
   "source": [
    "for row in range(5):\n",
    "    print(f\"{row=}\")\n",
    "    for col in range(5-row):\n",
    "        print(f\"\\t{col=}\")"
   ]
  },
  {
   "cell_type": "code",
   "execution_count": 8,
   "id": "fddd8110-c700-4196-aa7e-0d2a5be2d36f",
   "metadata": {},
   "outputs": [
    {
     "name": "stdout",
     "output_type": "stream",
     "text": [
      "row=0\n",
      "A\tB\tC\tD\tE\trow=1\n",
      "A\tB\tC\tD\trow=2\n",
      "A\tB\tC\trow=3\n",
      "A\tB\trow=4\n",
      "A\t"
     ]
    }
   ],
   "source": [
    "for row in range(5):\n",
    "    print(f\"{row=}\")\n",
    "    for col in range(5-row):\n",
    "        #print(f\"\\t{col=}\")\n",
    "        print(chr(col+65), end=\"\\t\")"
   ]
  },
  {
   "cell_type": "code",
   "execution_count": 9,
   "id": "1388f006-a177-4c91-beaa-e5c0f8e63471",
   "metadata": {},
   "outputs": [
    {
     "name": "stdout",
     "output_type": "stream",
     "text": [
      "A\tB\tC\tD\tE\tA\tB\tC\tD\tA\tB\tC\tA\tB\tA\t"
     ]
    }
   ],
   "source": [
    "for row in range(5):\n",
    "    for col in range(5-row):\n",
    "        print(chr(col+65), end=\"\\t\")\n",
    "        "
   ]
  },
  {
   "cell_type": "code",
   "execution_count": 10,
   "id": "5a531eb1-dc83-4c0d-b182-ef3256552f80",
   "metadata": {},
   "outputs": [
    {
     "name": "stdout",
     "output_type": "stream",
     "text": [
      "A\tB\tC\tD\tE\t\n",
      "A\tB\tC\tD\t\n",
      "A\tB\tC\t\n",
      "A\tB\t\n",
      "A\t\n"
     ]
    }
   ],
   "source": [
    "for row in range(5):\n",
    "    for col in range(5-row):\n",
    "        print(chr(col+65), end=\"\\t\")\n",
    "    print(\"\")    \n",
    "        "
   ]
  },
  {
   "cell_type": "code",
   "execution_count": 12,
   "id": "a6a6164b-2e03-40b8-b876-a0d150e00ce1",
   "metadata": {},
   "outputs": [
    {
     "name": "stdout",
     "output_type": "stream",
     "text": [
      "E\tD\tC\tB\tA\t\n",
      "D\tC\tB\tA\t\n",
      "C\tB\tA\t\n",
      "B\tA\t\n",
      "A\t\n"
     ]
    }
   ],
   "source": [
    "for row in range(5):\n",
    "    for col in range(5-row):\n",
    "        print(chr(65+4-row-col), end=\"\\t\")     \n",
    "    print(\"\")    \n",
    "        "
   ]
  },
  {
   "cell_type": "code",
   "execution_count": 15,
   "id": "74fc6426-ce67-4f6f-80a3-b9bf35cac91a",
   "metadata": {},
   "outputs": [
    {
     "name": "stdout",
     "output_type": "stream",
     "text": [
      "A\tB\tC\tD\tE\tE\tD\tC\tB\tA\t\n",
      "A\tB\tC\tD\tD\tC\tB\tA\t\n",
      "A\tB\tC\tC\tB\tA\t\n",
      "A\tB\tB\tA\t\n",
      "A\tA\t\n"
     ]
    }
   ],
   "source": [
    "for row in range(5):\n",
    "    for col in range(5-row):\n",
    "        print(chr(col+65), end=\"\\t\")\n",
    "    for col in range(5-row):\n",
    "        print(chr(65+4-row-col), end=\"\\t\")     \n",
    "    print(\"\")    \n",
    "        "
   ]
  },
  {
   "cell_type": "code",
   "execution_count": 32,
   "id": "eb01314f-989e-4a68-98dc-e5e29015ef98",
   "metadata": {},
   "outputs": [
    {
     "name": "stdout",
     "output_type": "stream",
     "text": [
      "\n",
      "*\t\n",
      "*\t*\t*\t\n",
      "*\t*\t*\t*\t*\t\n",
      "*\t*\t*\t*\t*\t*\t*\t\n"
     ]
    }
   ],
   "source": [
    "for row in range (5):\n",
    "    for col in range(2*row-1):\n",
    "        print('*', end='\\t')\n",
    "    print()"
   ]
  },
  {
   "cell_type": "code",
   "execution_count": 33,
   "id": "57d283c7-15fd-4c9a-a70b-0ee9025318a0",
   "metadata": {},
   "outputs": [
    {
     "name": "stdout",
     "output_type": "stream",
     "text": [
      "A\tB\tC\tD\tE\tE\tD\tC\tB\tA\t\n",
      "A\tB\tC\tD\t*\tD\tC\tB\tA\t\n",
      "A\tB\tC\t*\t*\t*\tC\tB\tA\t\n",
      "A\tB\t*\t*\t*\t*\t*\tB\tA\t\n",
      "A\t*\t*\t*\t*\t*\t*\t*\tA\t\n"
     ]
    }
   ],
   "source": [
    "for row in range(5):\n",
    "    for col in range(5-row):\n",
    "        print(chr(col+65), end=\"\\t\")\n",
    "  \n",
    "    for col in range(2*row-1):\n",
    "        print('*', end='\\t')\n",
    "    \n",
    "    for col in range(5-row):\n",
    "        print(chr(65+4-row-col), end=\"\\t\")     \n",
    "    print(\"\")    \n",
    "        "
   ]
  },
  {
   "cell_type": "code",
   "execution_count": 30,
   "id": "e95cb37d-1e4b-4094-8892-27eb917fa688",
   "metadata": {},
   "outputs": [
    {
     "name": "stdout",
     "output_type": "stream",
     "text": [
      "ABCDEDCBA\n",
      "ABCD*DCBA\n",
      "ABC***CBA\n",
      "AB*****BA\n",
      "A*******A\n"
     ]
    }
   ],
   "source": [
    "for row in range(5):\n",
    "    for col in range(5-row):\n",
    "        if col==4:\n",
    "            continue\n",
    "        print(chr(col+65), end=\"\")\n",
    "  \n",
    "    for col in range(2*row-1):\n",
    "        print('*', end='')\n",
    "    \n",
    "    for col in range(5-row):\n",
    "        print(chr(65+4-row-col), end=\"\")     \n",
    "    print()    \n",
    "        "
   ]
  },
  {
   "cell_type": "code",
   "execution_count": null,
   "id": "a962d477-8e5b-4547-b432-f7d0e6edfa17",
   "metadata": {},
   "outputs": [],
   "source": []
  }
 ],
 "metadata": {
  "kernelspec": {
   "display_name": "genai_514",
   "language": "python",
   "name": "genai_514"
  },
  "language_info": {
   "codemirror_mode": {
    "name": "ipython",
    "version": 3
   },
   "file_extension": ".py",
   "mimetype": "text/x-python",
   "name": "python",
   "nbconvert_exporter": "python",
   "pygments_lexer": "ipython3",
   "version": "3.13.5"
  }
 },
 "nbformat": 4,
 "nbformat_minor": 5
}
